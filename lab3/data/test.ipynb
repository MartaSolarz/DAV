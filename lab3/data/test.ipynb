{
 "cells": [
  {
   "cell_type": "code",
   "execution_count": 43,
   "id": "initial_id",
   "metadata": {
    "collapsed": true,
    "ExecuteTime": {
     "end_time": "2024-03-11T15:54:05.815863Z",
     "start_time": "2024-03-11T15:54:05.813763Z"
    }
   },
   "outputs": [],
   "source": [
    "import pandas as pd\n",
    "import numpy as np\n",
    "import matplotlib.pyplot as plt\n",
    "from matplotlib.animation import FuncAnimation\n",
    "from matplotlib.ticker import FuncFormatter"
   ]
  },
  {
   "cell_type": "code",
   "execution_count": 44,
   "outputs": [
    {
     "data": {
      "text/plain": "         Series Name  Series Code          Country Name Country Code  \\\n0  Population, total  SP.POP.TOTL    Iran, Islamic Rep.          IRN   \n1  Population, total  SP.POP.TOTL                  Iraq          IRQ   \n2  Population, total  SP.POP.TOTL          Saudi Arabia          SAU   \n3  Population, total  SP.POP.TOTL               Turkiye          TUR   \n4  Population, total  SP.POP.TOTL           Afghanistan          AFG   \n5  Population, total  SP.POP.TOTL          Turkmenistan          TKM   \n6  Population, total  SP.POP.TOTL  Syrian Arab Republic          SYR   \n\n   1960 [YR1960]  1961 [YR1961]  1962 [YR1962]  1963 [YR1963]  1964 [YR1964]  \\\n0       21388806       21983622       22605050       23259094       23948624   \n1        7084678        7260714        7481832        7735824        7997655   \n2        4165563        4306048        4458516        4621655        4795130   \n3       27510980       28255002       29033647       29827877       30612821   \n4        8622466        8790140        8969047        9157465        9355514   \n5        1602052        1658569        1716868        1776387        1836621   \n6        4610712        4751534        4894995        5045245        5202846   \n\n   1965 [YR1965]  ...  2013 [YR2013]  2014 [YR2014]  2015 [YR2015]  \\\n0       24667026  ...       78458928       79961672       81790841   \n1        8270544  ...       35481800       36746488       37757813   \n2        4978922  ...       31482498       32125564       32749848   \n3       31374536  ...       76147624       77181884       78218479   \n4        9565147  ...       31541209       32716210       33753499   \n5        1897095  ...        5560095        5663152        5766431   \n6        5368451  ...       21495821       20072232       19205178   \n\n   2016 [YR2016]  2017 [YR2017]  2018 [YR2018]  2019 [YR2019]  2020 [YR2020]  \\\n0       83306231       84505076       85617562       86564202       87290193   \n1       38697943       39621162       40590700       41563520       42556984   \n2       33416270       34193122       35018133       35827362       35997107   \n3       79277962       80312698       81407204       82579440       83384680   \n4       34636207       35643418       36686784       37769499       38972230   \n5        5868561        5968383        6065066        6158420        6250438   \n6       18964252       18983373       19333463       20098251       20772595   \n\n   2021 [YR2021]  2022 [YR2022]  \n0       87923432       88550570  \n1       43533592       44496122  \n2       35950396       36408820  \n3       84147318       84979913  \n4       40099462       41128771  \n5        6341855        6430770  \n6       21324367       22125249  \n\n[7 rows x 67 columns]",
      "text/html": "<div>\n<style scoped>\n    .dataframe tbody tr th:only-of-type {\n        vertical-align: middle;\n    }\n\n    .dataframe tbody tr th {\n        vertical-align: top;\n    }\n\n    .dataframe thead th {\n        text-align: right;\n    }\n</style>\n<table border=\"1\" class=\"dataframe\">\n  <thead>\n    <tr style=\"text-align: right;\">\n      <th></th>\n      <th>Series Name</th>\n      <th>Series Code</th>\n      <th>Country Name</th>\n      <th>Country Code</th>\n      <th>1960 [YR1960]</th>\n      <th>1961 [YR1961]</th>\n      <th>1962 [YR1962]</th>\n      <th>1963 [YR1963]</th>\n      <th>1964 [YR1964]</th>\n      <th>1965 [YR1965]</th>\n      <th>...</th>\n      <th>2013 [YR2013]</th>\n      <th>2014 [YR2014]</th>\n      <th>2015 [YR2015]</th>\n      <th>2016 [YR2016]</th>\n      <th>2017 [YR2017]</th>\n      <th>2018 [YR2018]</th>\n      <th>2019 [YR2019]</th>\n      <th>2020 [YR2020]</th>\n      <th>2021 [YR2021]</th>\n      <th>2022 [YR2022]</th>\n    </tr>\n  </thead>\n  <tbody>\n    <tr>\n      <th>0</th>\n      <td>Population, total</td>\n      <td>SP.POP.TOTL</td>\n      <td>Iran, Islamic Rep.</td>\n      <td>IRN</td>\n      <td>21388806</td>\n      <td>21983622</td>\n      <td>22605050</td>\n      <td>23259094</td>\n      <td>23948624</td>\n      <td>24667026</td>\n      <td>...</td>\n      <td>78458928</td>\n      <td>79961672</td>\n      <td>81790841</td>\n      <td>83306231</td>\n      <td>84505076</td>\n      <td>85617562</td>\n      <td>86564202</td>\n      <td>87290193</td>\n      <td>87923432</td>\n      <td>88550570</td>\n    </tr>\n    <tr>\n      <th>1</th>\n      <td>Population, total</td>\n      <td>SP.POP.TOTL</td>\n      <td>Iraq</td>\n      <td>IRQ</td>\n      <td>7084678</td>\n      <td>7260714</td>\n      <td>7481832</td>\n      <td>7735824</td>\n      <td>7997655</td>\n      <td>8270544</td>\n      <td>...</td>\n      <td>35481800</td>\n      <td>36746488</td>\n      <td>37757813</td>\n      <td>38697943</td>\n      <td>39621162</td>\n      <td>40590700</td>\n      <td>41563520</td>\n      <td>42556984</td>\n      <td>43533592</td>\n      <td>44496122</td>\n    </tr>\n    <tr>\n      <th>2</th>\n      <td>Population, total</td>\n      <td>SP.POP.TOTL</td>\n      <td>Saudi Arabia</td>\n      <td>SAU</td>\n      <td>4165563</td>\n      <td>4306048</td>\n      <td>4458516</td>\n      <td>4621655</td>\n      <td>4795130</td>\n      <td>4978922</td>\n      <td>...</td>\n      <td>31482498</td>\n      <td>32125564</td>\n      <td>32749848</td>\n      <td>33416270</td>\n      <td>34193122</td>\n      <td>35018133</td>\n      <td>35827362</td>\n      <td>35997107</td>\n      <td>35950396</td>\n      <td>36408820</td>\n    </tr>\n    <tr>\n      <th>3</th>\n      <td>Population, total</td>\n      <td>SP.POP.TOTL</td>\n      <td>Turkiye</td>\n      <td>TUR</td>\n      <td>27510980</td>\n      <td>28255002</td>\n      <td>29033647</td>\n      <td>29827877</td>\n      <td>30612821</td>\n      <td>31374536</td>\n      <td>...</td>\n      <td>76147624</td>\n      <td>77181884</td>\n      <td>78218479</td>\n      <td>79277962</td>\n      <td>80312698</td>\n      <td>81407204</td>\n      <td>82579440</td>\n      <td>83384680</td>\n      <td>84147318</td>\n      <td>84979913</td>\n    </tr>\n    <tr>\n      <th>4</th>\n      <td>Population, total</td>\n      <td>SP.POP.TOTL</td>\n      <td>Afghanistan</td>\n      <td>AFG</td>\n      <td>8622466</td>\n      <td>8790140</td>\n      <td>8969047</td>\n      <td>9157465</td>\n      <td>9355514</td>\n      <td>9565147</td>\n      <td>...</td>\n      <td>31541209</td>\n      <td>32716210</td>\n      <td>33753499</td>\n      <td>34636207</td>\n      <td>35643418</td>\n      <td>36686784</td>\n      <td>37769499</td>\n      <td>38972230</td>\n      <td>40099462</td>\n      <td>41128771</td>\n    </tr>\n    <tr>\n      <th>5</th>\n      <td>Population, total</td>\n      <td>SP.POP.TOTL</td>\n      <td>Turkmenistan</td>\n      <td>TKM</td>\n      <td>1602052</td>\n      <td>1658569</td>\n      <td>1716868</td>\n      <td>1776387</td>\n      <td>1836621</td>\n      <td>1897095</td>\n      <td>...</td>\n      <td>5560095</td>\n      <td>5663152</td>\n      <td>5766431</td>\n      <td>5868561</td>\n      <td>5968383</td>\n      <td>6065066</td>\n      <td>6158420</td>\n      <td>6250438</td>\n      <td>6341855</td>\n      <td>6430770</td>\n    </tr>\n    <tr>\n      <th>6</th>\n      <td>Population, total</td>\n      <td>SP.POP.TOTL</td>\n      <td>Syrian Arab Republic</td>\n      <td>SYR</td>\n      <td>4610712</td>\n      <td>4751534</td>\n      <td>4894995</td>\n      <td>5045245</td>\n      <td>5202846</td>\n      <td>5368451</td>\n      <td>...</td>\n      <td>21495821</td>\n      <td>20072232</td>\n      <td>19205178</td>\n      <td>18964252</td>\n      <td>18983373</td>\n      <td>19333463</td>\n      <td>20098251</td>\n      <td>20772595</td>\n      <td>21324367</td>\n      <td>22125249</td>\n    </tr>\n  </tbody>\n</table>\n<p>7 rows × 67 columns</p>\n</div>"
     },
     "execution_count": 44,
     "metadata": {},
     "output_type": "execute_result"
    }
   ],
   "source": [
    "df = pd.read_csv('../data/ex3.csv')\n",
    "names = {\n",
    "    'SAU': 'Saudi Arabia',\n",
    "    'TUR': 'Turkey',\n",
    "    'AFG': 'Afghanistan',\n",
    "    'IRQ': 'Iraq',\n",
    "    'IRN': 'Iran',\n",
    "    'TKM': 'Turkmenistan',\n",
    "    'SYR': 'Syria',\n",
    "}\n",
    "df"
   ],
   "metadata": {
    "collapsed": false,
    "ExecuteTime": {
     "end_time": "2024-03-11T15:54:06.084142Z",
     "start_time": "2024-03-11T15:54:06.067944Z"
    }
   },
   "id": "48c2b9ea66413571"
  },
  {
   "cell_type": "code",
   "execution_count": 45,
   "outputs": [],
   "source": [
    "df.drop(['Series Name', 'Series Code', 'Country Name'], inplace=True, axis=1)"
   ],
   "metadata": {
    "collapsed": false,
    "ExecuteTime": {
     "end_time": "2024-03-11T15:54:06.790565Z",
     "start_time": "2024-03-11T15:54:06.787670Z"
    }
   },
   "id": "541f80173ada4616"
  },
  {
   "cell_type": "code",
   "execution_count": 46,
   "outputs": [],
   "source": [
    "df.set_index('Country Code', inplace=True)"
   ],
   "metadata": {
    "collapsed": false,
    "ExecuteTime": {
     "end_time": "2024-03-11T15:54:08.024595Z",
     "start_time": "2024-03-11T15:54:08.019092Z"
    }
   },
   "id": "994815f4e00b6b7c"
  },
  {
   "cell_type": "code",
   "execution_count": 47,
   "outputs": [
    {
     "data": {
      "text/plain": "              1960 [YR1960]  1961 [YR1961]  1962 [YR1962]  1963 [YR1963]  \\\nCountry Code                                                               \nIRN                21388806       21983622       22605050       23259094   \nIRQ                 7084678        7260714        7481832        7735824   \nSAU                 4165563        4306048        4458516        4621655   \nTUR                27510980       28255002       29033647       29827877   \nAFG                 8622466        8790140        8969047        9157465   \nTKM                 1602052        1658569        1716868        1776387   \nSYR                 4610712        4751534        4894995        5045245   \n\n              1964 [YR1964]  1965 [YR1965]  1966 [YR1966]  1967 [YR1967]  \\\nCountry Code                                                               \nIRN                23948624       24667026       25398700       26133341   \nIRQ                 7997655        8270544        8553883        8848502   \nSAU                 4795130        4978922        5173237        5381026   \nTUR                30612821       31374536       32172785       33026490   \nAFG                 9355514        9565147        9783147       10010030   \nTKM                 1836621        1897095        1957557        2018024   \nSYR                 5202846        5368451        5542003        5723306   \n\n              1968 [YR1968]  1969 [YR1969]  ...  2013 [YR2013]  2014 [YR2014]  \\\nCountry Code                                ...                                 \nIRN                26875302       27643685  ...       78458928       79961672   \nIRQ                 9156132        9476737  ...       35481800       36746488   \nSAU                 5604582        5844843  ...       31482498       32125564   \nTUR                33884075       34721990  ...       76147624       77181884   \nAFG                10247780       10494489  ...       31541209       32716210   \nTKM                 2078581        2139557  ...        5560095        5663152   \nSYR                 5912715        6111364  ...       21495821       20072232   \n\n              2015 [YR2015]  2016 [YR2016]  2017 [YR2017]  2018 [YR2018]  \\\nCountry Code                                                               \nIRN                81790841       83306231       84505076       85617562   \nIRQ                37757813       38697943       39621162       40590700   \nSAU                32749848       33416270       34193122       35018133   \nTUR                78218479       79277962       80312698       81407204   \nAFG                33753499       34636207       35643418       36686784   \nTKM                 5766431        5868561        5968383        6065066   \nSYR                19205178       18964252       18983373       19333463   \n\n              2019 [YR2019]  2020 [YR2020]  2021 [YR2021]  2022 [YR2022]  \nCountry Code                                                              \nIRN                86564202       87290193       87923432       88550570  \nIRQ                41563520       42556984       43533592       44496122  \nSAU                35827362       35997107       35950396       36408820  \nTUR                82579440       83384680       84147318       84979913  \nAFG                37769499       38972230       40099462       41128771  \nTKM                 6158420        6250438        6341855        6430770  \nSYR                20098251       20772595       21324367       22125249  \n\n[7 rows x 63 columns]",
      "text/html": "<div>\n<style scoped>\n    .dataframe tbody tr th:only-of-type {\n        vertical-align: middle;\n    }\n\n    .dataframe tbody tr th {\n        vertical-align: top;\n    }\n\n    .dataframe thead th {\n        text-align: right;\n    }\n</style>\n<table border=\"1\" class=\"dataframe\">\n  <thead>\n    <tr style=\"text-align: right;\">\n      <th></th>\n      <th>1960 [YR1960]</th>\n      <th>1961 [YR1961]</th>\n      <th>1962 [YR1962]</th>\n      <th>1963 [YR1963]</th>\n      <th>1964 [YR1964]</th>\n      <th>1965 [YR1965]</th>\n      <th>1966 [YR1966]</th>\n      <th>1967 [YR1967]</th>\n      <th>1968 [YR1968]</th>\n      <th>1969 [YR1969]</th>\n      <th>...</th>\n      <th>2013 [YR2013]</th>\n      <th>2014 [YR2014]</th>\n      <th>2015 [YR2015]</th>\n      <th>2016 [YR2016]</th>\n      <th>2017 [YR2017]</th>\n      <th>2018 [YR2018]</th>\n      <th>2019 [YR2019]</th>\n      <th>2020 [YR2020]</th>\n      <th>2021 [YR2021]</th>\n      <th>2022 [YR2022]</th>\n    </tr>\n    <tr>\n      <th>Country Code</th>\n      <th></th>\n      <th></th>\n      <th></th>\n      <th></th>\n      <th></th>\n      <th></th>\n      <th></th>\n      <th></th>\n      <th></th>\n      <th></th>\n      <th></th>\n      <th></th>\n      <th></th>\n      <th></th>\n      <th></th>\n      <th></th>\n      <th></th>\n      <th></th>\n      <th></th>\n      <th></th>\n      <th></th>\n    </tr>\n  </thead>\n  <tbody>\n    <tr>\n      <th>IRN</th>\n      <td>21388806</td>\n      <td>21983622</td>\n      <td>22605050</td>\n      <td>23259094</td>\n      <td>23948624</td>\n      <td>24667026</td>\n      <td>25398700</td>\n      <td>26133341</td>\n      <td>26875302</td>\n      <td>27643685</td>\n      <td>...</td>\n      <td>78458928</td>\n      <td>79961672</td>\n      <td>81790841</td>\n      <td>83306231</td>\n      <td>84505076</td>\n      <td>85617562</td>\n      <td>86564202</td>\n      <td>87290193</td>\n      <td>87923432</td>\n      <td>88550570</td>\n    </tr>\n    <tr>\n      <th>IRQ</th>\n      <td>7084678</td>\n      <td>7260714</td>\n      <td>7481832</td>\n      <td>7735824</td>\n      <td>7997655</td>\n      <td>8270544</td>\n      <td>8553883</td>\n      <td>8848502</td>\n      <td>9156132</td>\n      <td>9476737</td>\n      <td>...</td>\n      <td>35481800</td>\n      <td>36746488</td>\n      <td>37757813</td>\n      <td>38697943</td>\n      <td>39621162</td>\n      <td>40590700</td>\n      <td>41563520</td>\n      <td>42556984</td>\n      <td>43533592</td>\n      <td>44496122</td>\n    </tr>\n    <tr>\n      <th>SAU</th>\n      <td>4165563</td>\n      <td>4306048</td>\n      <td>4458516</td>\n      <td>4621655</td>\n      <td>4795130</td>\n      <td>4978922</td>\n      <td>5173237</td>\n      <td>5381026</td>\n      <td>5604582</td>\n      <td>5844843</td>\n      <td>...</td>\n      <td>31482498</td>\n      <td>32125564</td>\n      <td>32749848</td>\n      <td>33416270</td>\n      <td>34193122</td>\n      <td>35018133</td>\n      <td>35827362</td>\n      <td>35997107</td>\n      <td>35950396</td>\n      <td>36408820</td>\n    </tr>\n    <tr>\n      <th>TUR</th>\n      <td>27510980</td>\n      <td>28255002</td>\n      <td>29033647</td>\n      <td>29827877</td>\n      <td>30612821</td>\n      <td>31374536</td>\n      <td>32172785</td>\n      <td>33026490</td>\n      <td>33884075</td>\n      <td>34721990</td>\n      <td>...</td>\n      <td>76147624</td>\n      <td>77181884</td>\n      <td>78218479</td>\n      <td>79277962</td>\n      <td>80312698</td>\n      <td>81407204</td>\n      <td>82579440</td>\n      <td>83384680</td>\n      <td>84147318</td>\n      <td>84979913</td>\n    </tr>\n    <tr>\n      <th>AFG</th>\n      <td>8622466</td>\n      <td>8790140</td>\n      <td>8969047</td>\n      <td>9157465</td>\n      <td>9355514</td>\n      <td>9565147</td>\n      <td>9783147</td>\n      <td>10010030</td>\n      <td>10247780</td>\n      <td>10494489</td>\n      <td>...</td>\n      <td>31541209</td>\n      <td>32716210</td>\n      <td>33753499</td>\n      <td>34636207</td>\n      <td>35643418</td>\n      <td>36686784</td>\n      <td>37769499</td>\n      <td>38972230</td>\n      <td>40099462</td>\n      <td>41128771</td>\n    </tr>\n    <tr>\n      <th>TKM</th>\n      <td>1602052</td>\n      <td>1658569</td>\n      <td>1716868</td>\n      <td>1776387</td>\n      <td>1836621</td>\n      <td>1897095</td>\n      <td>1957557</td>\n      <td>2018024</td>\n      <td>2078581</td>\n      <td>2139557</td>\n      <td>...</td>\n      <td>5560095</td>\n      <td>5663152</td>\n      <td>5766431</td>\n      <td>5868561</td>\n      <td>5968383</td>\n      <td>6065066</td>\n      <td>6158420</td>\n      <td>6250438</td>\n      <td>6341855</td>\n      <td>6430770</td>\n    </tr>\n    <tr>\n      <th>SYR</th>\n      <td>4610712</td>\n      <td>4751534</td>\n      <td>4894995</td>\n      <td>5045245</td>\n      <td>5202846</td>\n      <td>5368451</td>\n      <td>5542003</td>\n      <td>5723306</td>\n      <td>5912715</td>\n      <td>6111364</td>\n      <td>...</td>\n      <td>21495821</td>\n      <td>20072232</td>\n      <td>19205178</td>\n      <td>18964252</td>\n      <td>18983373</td>\n      <td>19333463</td>\n      <td>20098251</td>\n      <td>20772595</td>\n      <td>21324367</td>\n      <td>22125249</td>\n    </tr>\n  </tbody>\n</table>\n<p>7 rows × 63 columns</p>\n</div>"
     },
     "execution_count": 47,
     "metadata": {},
     "output_type": "execute_result"
    }
   ],
   "source": [
    "df"
   ],
   "metadata": {
    "collapsed": false,
    "ExecuteTime": {
     "end_time": "2024-03-11T15:54:08.793480Z",
     "start_time": "2024-03-11T15:54:08.789281Z"
    }
   },
   "id": "fad6fcd76471d0bb"
  },
  {
   "cell_type": "code",
   "execution_count": 48,
   "outputs": [],
   "source": [
    "df.columns = df.columns.map(lambda x: x[:4])\n",
    "df = df.map(lambda x: x/1000000)"
   ],
   "metadata": {
    "collapsed": false,
    "ExecuteTime": {
     "end_time": "2024-03-11T15:54:10.659848Z",
     "start_time": "2024-03-11T15:54:10.657275Z"
    }
   },
   "id": "66e94ed83bd78bc7"
  },
  {
   "cell_type": "code",
   "execution_count": 39,
   "outputs": [],
   "source": [
    "df.drop(['IRN', 'TUR'], axis=0, inplace=True)"
   ],
   "metadata": {
    "collapsed": false,
    "ExecuteTime": {
     "end_time": "2024-03-11T15:45:36.360591Z",
     "start_time": "2024-03-11T15:45:36.355399Z"
    }
   },
   "id": "14d8785b83b09bf7"
  },
  {
   "cell_type": "code",
   "execution_count": 49,
   "outputs": [],
   "source": [
    "df = df.T\n",
    "df.to_csv('../data/ex3_clean2.csv')"
   ],
   "metadata": {
    "collapsed": false,
    "ExecuteTime": {
     "end_time": "2024-03-11T15:54:16.181697Z",
     "start_time": "2024-03-11T15:54:16.175594Z"
    }
   },
   "id": "ed687671b494617c"
  },
  {
   "cell_type": "code",
   "execution_count": 50,
   "outputs": [],
   "source": [
    "df = pd.read_csv('../data/ex3_clean.csv')"
   ],
   "metadata": {
    "collapsed": false,
    "ExecuteTime": {
     "end_time": "2024-03-11T15:54:17.176337Z",
     "start_time": "2024-03-11T15:54:17.170481Z"
    }
   },
   "id": "849574d3834fd69d"
  },
  {
   "cell_type": "code",
   "execution_count": 51,
   "outputs": [
    {
     "data": {
      "text/plain": "    Years        IRQ        SAU        AFG       TKM        SYR\n0    1960   7.084678   4.165563   8.622466  1.602052   4.610712\n1    1961   7.260714   4.306048   8.790140  1.658569   4.751534\n2    1962   7.481832   4.458516   8.969047  1.716868   4.894995\n3    1963   7.735824   4.621655   9.157465  1.776387   5.045245\n4    1964   7.997655   4.795130   9.355514  1.836621   5.202846\n..    ...        ...        ...        ...       ...        ...\n58   2018  40.590700  35.018133  36.686784  6.065066  19.333463\n59   2019  41.563520  35.827362  37.769499  6.158420  20.098251\n60   2020  42.556984  35.997107  38.972230  6.250438  20.772595\n61   2021  43.533592  35.950396  40.099462  6.341855  21.324367\n62   2022  44.496122  36.408820  41.128771  6.430770  22.125249\n\n[63 rows x 6 columns]",
      "text/html": "<div>\n<style scoped>\n    .dataframe tbody tr th:only-of-type {\n        vertical-align: middle;\n    }\n\n    .dataframe tbody tr th {\n        vertical-align: top;\n    }\n\n    .dataframe thead th {\n        text-align: right;\n    }\n</style>\n<table border=\"1\" class=\"dataframe\">\n  <thead>\n    <tr style=\"text-align: right;\">\n      <th></th>\n      <th>Years</th>\n      <th>IRQ</th>\n      <th>SAU</th>\n      <th>AFG</th>\n      <th>TKM</th>\n      <th>SYR</th>\n    </tr>\n  </thead>\n  <tbody>\n    <tr>\n      <th>0</th>\n      <td>1960</td>\n      <td>7.084678</td>\n      <td>4.165563</td>\n      <td>8.622466</td>\n      <td>1.602052</td>\n      <td>4.610712</td>\n    </tr>\n    <tr>\n      <th>1</th>\n      <td>1961</td>\n      <td>7.260714</td>\n      <td>4.306048</td>\n      <td>8.790140</td>\n      <td>1.658569</td>\n      <td>4.751534</td>\n    </tr>\n    <tr>\n      <th>2</th>\n      <td>1962</td>\n      <td>7.481832</td>\n      <td>4.458516</td>\n      <td>8.969047</td>\n      <td>1.716868</td>\n      <td>4.894995</td>\n    </tr>\n    <tr>\n      <th>3</th>\n      <td>1963</td>\n      <td>7.735824</td>\n      <td>4.621655</td>\n      <td>9.157465</td>\n      <td>1.776387</td>\n      <td>5.045245</td>\n    </tr>\n    <tr>\n      <th>4</th>\n      <td>1964</td>\n      <td>7.997655</td>\n      <td>4.795130</td>\n      <td>9.355514</td>\n      <td>1.836621</td>\n      <td>5.202846</td>\n    </tr>\n    <tr>\n      <th>...</th>\n      <td>...</td>\n      <td>...</td>\n      <td>...</td>\n      <td>...</td>\n      <td>...</td>\n      <td>...</td>\n    </tr>\n    <tr>\n      <th>58</th>\n      <td>2018</td>\n      <td>40.590700</td>\n      <td>35.018133</td>\n      <td>36.686784</td>\n      <td>6.065066</td>\n      <td>19.333463</td>\n    </tr>\n    <tr>\n      <th>59</th>\n      <td>2019</td>\n      <td>41.563520</td>\n      <td>35.827362</td>\n      <td>37.769499</td>\n      <td>6.158420</td>\n      <td>20.098251</td>\n    </tr>\n    <tr>\n      <th>60</th>\n      <td>2020</td>\n      <td>42.556984</td>\n      <td>35.997107</td>\n      <td>38.972230</td>\n      <td>6.250438</td>\n      <td>20.772595</td>\n    </tr>\n    <tr>\n      <th>61</th>\n      <td>2021</td>\n      <td>43.533592</td>\n      <td>35.950396</td>\n      <td>40.099462</td>\n      <td>6.341855</td>\n      <td>21.324367</td>\n    </tr>\n    <tr>\n      <th>62</th>\n      <td>2022</td>\n      <td>44.496122</td>\n      <td>36.408820</td>\n      <td>41.128771</td>\n      <td>6.430770</td>\n      <td>22.125249</td>\n    </tr>\n  </tbody>\n</table>\n<p>63 rows × 6 columns</p>\n</div>"
     },
     "execution_count": 51,
     "metadata": {},
     "output_type": "execute_result"
    }
   ],
   "source": [
    "df"
   ],
   "metadata": {
    "collapsed": false,
    "ExecuteTime": {
     "end_time": "2024-03-11T15:54:17.464317Z",
     "start_time": "2024-03-11T15:54:17.460252Z"
    }
   },
   "id": "647672f9cbf06dbf"
  },
  {
   "cell_type": "code",
   "execution_count": null,
   "outputs": [],
   "source": [],
   "metadata": {
    "collapsed": false
   },
   "id": "52b18c3cd17fbeef"
  }
 ],
 "metadata": {
  "kernelspec": {
   "display_name": "Python 3",
   "language": "python",
   "name": "python3"
  },
  "language_info": {
   "codemirror_mode": {
    "name": "ipython",
    "version": 2
   },
   "file_extension": ".py",
   "mimetype": "text/x-python",
   "name": "python",
   "nbconvert_exporter": "python",
   "pygments_lexer": "ipython2",
   "version": "2.7.6"
  }
 },
 "nbformat": 4,
 "nbformat_minor": 5
}
